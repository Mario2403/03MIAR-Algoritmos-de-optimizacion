{
  "nbformat": 4,
  "nbformat_minor": 0,
  "metadata": {
    "colab": {
      "name": "Seminario - Algoritmos - Mario Jurado Soba.ipynb",
      "provenance": [],
      "collapsed_sections": [],
      "include_colab_link": true
    },
    "kernelspec": {
      "name": "python3",
      "display_name": "Python 3"
    }
  },
  "cells": [
    {
      "cell_type": "markdown",
      "metadata": {
        "id": "view-in-github",
        "colab_type": "text"
      },
      "source": [
        "<a href=\"https://colab.research.google.com/github/Mario2403/03MIAR-Algoritmos-de-optimizacion/blob/main/Seminario_Algoritmos_Mario_Jurado_Soba.ipynb\" target=\"_parent\"><img src=\"https://colab.research.google.com/assets/colab-badge.svg\" alt=\"Open In Colab\"/></a>"
      ]
    },
    {
      "cell_type": "markdown",
      "metadata": {
        "id": "hVbXYX-RfPWh"
      },
      "source": [
        "# Algoritmos de optimización - Seminario<br>\n",
        "Nombre y Apellidos: Mario Jurado Soba  <br>\n",
        "Url: https://github.com/.../03MAIR---Algoritmos-de-Optimizacion---2019/tree/master/SEMINARIO<br>\n",
        "\n",
        "Drive : https://colab.research.google.com/drive/1Wyz2vleqK2sv7olEUS5n2bwiV01Sqm-7?usp=sharing\n",
        "<br>\n",
        "\n",
        "Problema:\n",
        "\n",
        ">2. Organizar los horarios de partidos de La Liga<br>\n",
        "\n",
        "\n",
        "Descripción del problema:\n",
        "\n",
        "**Desde la La Liga de fútbol profesional se pretende organizar los horarios de los partidos de\n",
        "liga de cada jornada. Se conocen algunos datos que nos deben llevar a diseñar un\n",
        "algoritmo que realice la asignación de los partidos a los horarios de forma que maximice\n",
        "la audiencia.**\n",
        "\n",
        "---\n",
        "\n",
        "\n",
        "\n",
        "                                        "
      ]
    },
    {
      "cell_type": "markdown",
      "metadata": {
        "id": "3_-exlrTgLd-"
      },
      "source": [
        "(*)¿Cuantas posibilidades hay sin tener en cuenta las restricciones?<br>\n",
        "\n",
        "\n",
        "\n",
        "¿Cuantas posibilidades hay teniendo en cuenta todas las restricciones.\n",
        "\n",
        "\n"
      ]
    },
    {
      "cell_type": "markdown",
      "metadata": {
        "id": "WfCUqJyKhPcw"
      },
      "source": [
        "Respuesta"
      ]
    },
    {
      "cell_type": "markdown",
      "metadata": {
        "id": "srzdMj1lnlHo"
      },
      "source": [
        "Sin tener en cuenta las restricciones, sabemos que hay 10 partidos y que, para cada partido existen 8 posibilidades de asignar un horario, por lo tanto tenemos que hay $8^{10} = 1.073.741.824$ posibilidades.\n",
        "\n",
        "En cambio, al tener en cuenta las restricciones, el espacio de búsqueda baja ya que sabemos que dos de los partidos han de ser el lunes a las 20_00 y el viernes a las 20:00; es por esoq ue tenemos $8^{8} = 16.777.216$ posibilidades."
      ]
    },
    {
      "cell_type": "code",
      "metadata": {
        "id": "jCZ3xcsmkgyw"
      },
      "source": [
        ""
      ],
      "execution_count": null,
      "outputs": []
    },
    {
      "cell_type": "markdown",
      "metadata": {
        "id": "ayK2r6MK5qD1"
      },
      "source": [
        "\n",
        "\n",
        "---\n",
        "\n"
      ]
    },
    {
      "cell_type": "markdown",
      "metadata": {
        "id": "dzynfVJahHoY"
      },
      "source": [
        "Modelo para el espacio de soluciones<br>\n",
        "(*) ¿Cual es la estructura de datos que mejor se adapta al problema? Argumentalo.(Es posible que hayas elegido una al principio y veas la necesidad de cambiar, arguentalo)\n"
      ]
    },
    {
      "cell_type": "markdown",
      "metadata": {
        "id": "xFIJrOwKi2Ti"
      },
      "source": [
        "Respuesta"
      ]
    },
    {
      "cell_type": "markdown",
      "metadata": {
        "id": "Lqb9qUgmpQr4"
      },
      "source": [
        "En un primer lugar, opté por una lista en donde cada elemento representaba un partido y, cada posición de esa lista el horario, asi pues la lista: [AB, BC, CC, ...] se interpretaría como: El viernes a las 20 juega un partido AB, el sábado a las 12 un partido BC, etc...\n",
        "\n",
        "Esta implementación tiene un problema y es que no permite la repetición de los horarios, ya que estos están representados mediante una posición fija de la lista.\n",
        "\n",
        "\n",
        "\n",
        "\n",
        "\n",
        "\n",
        "Finalmente, la solucion al problema anterior fue cambiar el significado de cada elemento de la lista al horario del partido y, la posición al tipo de partido (AA, AB, BB, etc).\n",
        "\n",
        "De esta forma, la solucion: [\"V20\", \"S12\", \"S16\", \"S18\", \"S20\", ...] para la jornada [\"BA\", \"BA\", \"CC\", \"BA\", \"CC\", ...] se interpreta como: el viernes a las 20 juega un partido BA, el sábado a las 12 un partido BA, el sábado a las 16 un partido CC, etc.\n",
        "\n",
        "De esta forma, quedan representados los 10 partidos (10 elementos en la lista) y sus 10 horarios."
      ]
    },
    {
      "cell_type": "code",
      "metadata": {
        "id": "TK_wdFTmkh9O"
      },
      "source": [
        ""
      ],
      "execution_count": null,
      "outputs": []
    },
    {
      "cell_type": "markdown",
      "metadata": {
        "id": "xOuXAfKl26t8"
      },
      "source": [
        "\n",
        "\n",
        "---\n",
        "\n"
      ]
    },
    {
      "cell_type": "markdown",
      "metadata": {
        "id": "7Z9U2W7bi-XS"
      },
      "source": [
        "Según el modelo para el espacio de soluciones<br>\n",
        "(*)¿Cual es la función objetivo?\n",
        "\n",
        "(*)¿Es un problema de maximización o minimización?"
      ]
    },
    {
      "cell_type": "markdown",
      "metadata": {
        "id": "hBalWLM7j1_d"
      },
      "source": [
        "Respuesta"
      ]
    },
    {
      "cell_type": "markdown",
      "metadata": {
        "id": "4U_JUbGQthtK"
      },
      "source": [
        "La funcion objetivo a minimizar es la denominada más adelante `fitness()` la cual contiene las bonificaciones y restricciones del problema; en este caso es:\n",
        "\n",
        "$$\\sum _{i}^{n=10}{audienciaBase_i * multiplicadorAudiencia *(1- penalizacionConcurrencia))}$$\n",
        "\n",
        "\n",
        "O lo que es lo mismo, la suma de la audiencia base para el partido i-ésimo multiplicado por el multiplicador de audiencia según el día del partido menos la penalización por concurrencia de ese partido con otros.\n",
        "\n",
        "Se trata de un prblema de maximización, queremos encontrar la máxima audiencia posible."
      ]
    },
    {
      "cell_type": "code",
      "metadata": {
        "id": "l6ffEj3dkjd8"
      },
      "source": [
        ""
      ],
      "execution_count": null,
      "outputs": []
    },
    {
      "cell_type": "markdown",
      "metadata": {
        "id": "cNJGSVl52-0w"
      },
      "source": [
        "\n",
        "\n",
        "---\n",
        "\n"
      ]
    },
    {
      "cell_type": "markdown",
      "metadata": {
        "id": "rlnTYgY1j6I2"
      },
      "source": [
        "Diseña un algoritmo para resolver el problema por fuerza bruta"
      ]
    },
    {
      "cell_type": "markdown",
      "metadata": {
        "id": "70rDgxYXkC8r"
      },
      "source": [
        "Respuesta"
      ]
    },
    {
      "cell_type": "markdown",
      "metadata": {
        "id": "tqUYKsOjkkp5"
      },
      "source": [
        "El algoritmo se basa en buscar todas las combinaciones posibles guardando siempre la que mejor resultado ofrece hasta ese momento."
      ]
    },
    {
      "cell_type": "code",
      "metadata": {
        "id": "CJb5sQ0qkENy"
      },
      "source": [
        "def fuerza_bruta():\n",
        "  best_score = -10e5\n",
        "  best_sol = []\n",
        "\n",
        "  for h1 in HORARIOS:\n",
        "    for h2 in HORARIOS:\n",
        "        for h3 in HORARIOS:\n",
        "          for h4 in HORARIOS:\n",
        "            for h5 in HORARIOS:\n",
        "              for h6 in HORARIOS:\n",
        "                for h7 in HORARIOS:\n",
        "                  for h8 in HORARIOS:\n",
        "                    for h9 in HORARIOS:\n",
        "                      for h10 in HORARIOS:\n",
        "                        actual_score = fitness([h1, h2, h3, h4, h5, h6, h7, h8, h9, h10])\n",
        "                        if actual_score > best_score:\n",
        "                          best_score, best_sol = actual_score, [h1, h2, h3, h4, h5, h6, h7, h8, h9, h10]\n",
        "                          print(f\"Nuevo mejor resultado = {best_score}, {best_sol}\")\n",
        "  return best_score, best_sol\n",
        "\n",
        "fuerza_bruta()"
      ],
      "execution_count": null,
      "outputs": []
    },
    {
      "cell_type": "markdown",
      "metadata": {
        "id": "DlTNXuoO3Afu"
      },
      "source": [
        "\n",
        "\n",
        "---\n",
        "\n"
      ]
    },
    {
      "cell_type": "markdown",
      "metadata": {
        "id": "tgrnsC2nkFa8"
      },
      "source": [
        "Calcula la complejidad del algoritmo por fuerza bruta"
      ]
    },
    {
      "cell_type": "markdown",
      "metadata": {
        "id": "9eUd3xwckP68"
      },
      "source": [
        "Respuesta"
      ]
    },
    {
      "cell_type": "markdown",
      "metadata": {
        "id": "emvlJpiawBfp"
      },
      "source": [
        "La complejidad del algoritmo es de $n^{10}$."
      ]
    },
    {
      "cell_type": "code",
      "metadata": {
        "id": "dPzc5iW4ksQl"
      },
      "source": [
        ""
      ],
      "execution_count": null,
      "outputs": []
    },
    {
      "cell_type": "markdown",
      "metadata": {
        "id": "X_SFZcuo5uFQ"
      },
      "source": [
        "\n",
        "\n",
        "---\n",
        "\n"
      ]
    },
    {
      "cell_type": "markdown",
      "metadata": {
        "id": "txbrmLmskReM"
      },
      "source": [
        "(*)Diseña un algoritmo que mejore la complejidad del algortimo por fuerza bruta. Argumenta porque crees que mejora el algoritmo por fuerza bruta"
      ]
    },
    {
      "cell_type": "markdown",
      "metadata": {
        "id": "hLrVwt5QkZPD"
      },
      "source": [
        "Respuesta"
      ]
    },
    {
      "cell_type": "code",
      "metadata": {
        "id": "m1eyM21Vkabg"
      },
      "source": [
        "import random\n",
        "import numpy as np"
      ],
      "execution_count": null,
      "outputs": []
    },
    {
      "cell_type": "code",
      "metadata": {
        "id": "Q9jDhkePO2K_"
      },
      "source": [
        "AUDIENCIA = {\"V20\":0.4, \"S12\":0.55, \"S16\":0.7, \"S18\":0.8, \"S20\":1, \"D12\":0.45, \"D16\":0.75, \"D18\":0.5, \"D20\": 1, \"L20\":0.4}\n",
        "CATEGORIAS = {\"AA\":2, \"BA\":1.3, \"AC\":1, \"BB\":0.9, \"BC\":0.75, \"CC\":0.47}\n",
        "COINCIDENCIAS = [0, 0.25, 0.45, 0.6, 0.7, 0.75, 0.78, 0.8, 0.8, 0.8]\n",
        "HORARIOS = [\"V20\", \"S12\", \"S16\", \"S18\", \"S20\", \"D12\", \"D16\", \"D18\", \"D20\", \"L20\"]\n",
        "PARTIDOS = [\"AA\", \"BA\", \"AC\", \"BB\", \"BC\", \"CC\"]\n",
        "P_CROSS = 0.7\n",
        "P_MUT = 0.2\n",
        "\n",
        "jornada =[\"BA\", \"BA\", \"CC\", \"BA\", \"CC\", \"BC\", \"BB\", \"BB\", \"BC\", \"BB\"]\n"
      ],
      "execution_count": null,
      "outputs": []
    },
    {
      "cell_type": "code",
      "metadata": {
        "id": "W7Y-i0H7vnXj"
      },
      "source": [
        "## Funcion objetivo, esta calcula la audiencia de una jornada\n",
        "\n",
        "def fitness(genoma):\n",
        "  total = 0\n",
        "  parciales = []\n",
        "  for pos in range(len(genoma)):\n",
        "    parcial = CATEGORIAS[jornada[pos]] *  AUDIENCIA[genoma[pos]]\n",
        "    parcial *= 1 - COINCIDENCIAS[genoma.count(genoma[pos])-1]\n",
        "    parciales.append(parcial)\n",
        "    total += parcial\n",
        "\n",
        "  if \"V20\" not in genoma or \"L20\" not in genoma:\n",
        "      total = 0\n",
        "  return total\n",
        "  "
      ],
      "execution_count": null,
      "outputs": []
    },
    {
      "cell_type": "code",
      "metadata": {
        "id": "KkNn6WznvsLq"
      },
      "source": [
        "# Función que dados 2 genomas, los corta y cruza por un unico punto\n",
        "\n",
        "def cruce(gen1, gen2):\n",
        "  \n",
        "  ngen1 = gen1.copy()\n",
        "  ngen2 = gen2.copy()\n",
        "  if random.random() < P_CROSS: \n",
        "    corte = random.randint(1, len(gen1)-2)\n",
        "    ngen1 = gen1[:corte] + gen2[corte:]\n",
        "    ngen2 = gen2[:corte] + gen1[corte:]\n",
        "  \n",
        "  return (ngen1, ngen2)"
      ],
      "execution_count": null,
      "outputs": []
    },
    {
      "cell_type": "code",
      "metadata": {
        "id": "iBt7FqmVvtWS"
      },
      "source": [
        "# Función enacargada de mutar uno de los genes de un genoma de manera aleatoria segun una probabilidad P_MUT\n",
        "\n",
        "def mutacion(gen):\n",
        "  for i, g in enumerate(gen):\n",
        "    if random.random() < P_MUT:\n",
        "      gen[i] = random.choice(HORARIOS)\n",
        "  return gen"
      ],
      "execution_count": null,
      "outputs": []
    },
    {
      "cell_type": "code",
      "metadata": {
        "id": "yeIWpN79vvEo"
      },
      "source": [
        "# Selección por torneo\n",
        "\n",
        "def seleccion(pop, scores, k=3):\n",
        "\tselection_ix = np.random.randint(len(pop))\n",
        "\tfor ix in np.random.randint(0, len(pop), k-1):\n",
        "\t\tif scores[ix] < scores[selection_ix]:\n",
        "\t\t\tselection_ix = ix\n",
        "\treturn pop[selection_ix]\n",
        "\n"
      ],
      "execution_count": null,
      "outputs": []
    },
    {
      "cell_type": "code",
      "metadata": {
        "id": "O7_sGvQpvv5E"
      },
      "source": [
        "# Funciona que inicializa la población de individuos (genomas)\n",
        "\n",
        "def init_population(tam_pop = 10):\n",
        "  pop = list()\n",
        "  for t in range(tam_pop):\n",
        "    g = [random.choice(HORARIOS) for _ in range(10)]\n",
        "    pop.append(g)\n",
        "  return pop"
      ],
      "execution_count": null,
      "outputs": []
    },
    {
      "cell_type": "code",
      "metadata": {
        "id": "xXK0dftQvzpF"
      },
      "source": [
        "# Generador de un conjunto de jornadas aleatorias\n",
        "\n",
        "def generar_partidos_aleatorios():\n",
        "  return [np.random.choice(PARTIDOS) for _ in range(10)]"
      ],
      "execution_count": null,
      "outputs": []
    },
    {
      "cell_type": "code",
      "metadata": {
        "id": "V2c6TU0ZvxUO"
      },
      "source": [
        "# Principal funcion del algoritmo, esta recibe:\n",
        "# - fitness : la funcion objetivo,\n",
        "# - iteraciones: el numero de iteraciones máximas,\n",
        "# - stop_iters: el numero de iteraciones máximas que vamos a tolerar sin# que se produzca ninguna mejora en la solución,\n",
        "# - tam_pop: el tamaño de la población,\n",
        "# - trace: cada cuantas iteraciones se imprime el mejor resultado,\n",
        "# - elitismo: la cantidad de individuos que vamos a guardar para la siguiente generación,\n",
        "# - torneo: cuantos individuos enfrentamos entre si en la selección por torneo\n",
        "\n",
        "def optimiza(fitness, iteraciones = 100, stop_iters=10e5, tam_pop = 10, trace = 10e4, elitismo = 2, torneo = 3):\n",
        "  pop = init_population(tam_pop)\n",
        "  best, best_fit = pop[0], fitness(pop[0])\n",
        "  lastBest = 0\n",
        "\n",
        "  for generation in range(iteraciones):\n",
        "    scores = [fitness(p) for p in pop]\n",
        "\n",
        "    for i in range(len(pop)):\n",
        "      if scores[i] > best_fit:\n",
        "        best, best_fit = pop[i], scores[i]\n",
        "        lastBest = generation\n",
        "        print(\"%d, nuevo mejor (%s) = %.3f\" % (generation,  pop[i], scores[i]))\n",
        "    \n",
        "    seleccionados = [seleccion(pop, scores, torneo) for _ in range(len(pop))]\n",
        "    hijos = list()\n",
        "\n",
        "    for i in range(0, tam_pop, 2):\n",
        "      p1, p2 = seleccionados[i], seleccionados[i+1]\n",
        "\n",
        "      for c in cruce(p1, p2):\n",
        "        c = mutacion(c)\n",
        "        hijos.append(c)\n",
        "\n",
        "\n",
        "    zip_list = zip(scores, pop)\n",
        "    sorted_zip = sorted(zip_list, reverse = True)\n",
        "    sorted_l = [elem for _, elem in sorted_zip]\n",
        "\n",
        "    if elitismo > 0:\n",
        "      hijos_elite = sorted_l[:elitismo] + hijos[elitismo:]\n",
        "      pop = hijos_elite \n",
        "    else:\n",
        "      pop = hijos\n",
        "\n",
        "    if generation % int(trace) == 0:\n",
        "      print(f\"Generacion = {generation}, mejor score = {np.max(scores)}, peor score = {np.min(scores)}, media = {np.mean(scores)} \")\n",
        "\n",
        "    if generation - lastBest >= stop_iters:\n",
        "      print(f\"---------------------------------------------------------------------------------------------------\\n{generation - lastBest} iteraciones sin cambiar el mejor resultado \\nEl mejor resultado es: {best} con puntuacion: {best_fit}\")\n",
        "      return (best, best_fit)\n",
        "  return (best, best_fit)"
      ],
      "execution_count": null,
      "outputs": []
    },
    {
      "cell_type": "markdown",
      "metadata": {
        "id": "rLHCOd033Ezf"
      },
      "source": [
        "\n",
        "\n",
        "---\n",
        "\n"
      ]
    },
    {
      "cell_type": "markdown",
      "metadata": {
        "id": "eGDB4K6uk1iN"
      },
      "source": [
        "(*)Calcula la complejidad del algoritmo "
      ]
    },
    {
      "cell_type": "markdown",
      "metadata": {
        "id": "NhpTh_BPk1ms"
      },
      "source": [
        "Respuesta"
      ]
    },
    {
      "cell_type": "markdown",
      "metadata": {
        "id": "34V88pyOwq1T"
      },
      "source": [
        "En este caso la complejidad del algoritmo depende de varios factores como son el número de iteraciones."
      ]
    },
    {
      "cell_type": "code",
      "metadata": {
        "id": "CG-8cSYCkurc"
      },
      "source": [
        ""
      ],
      "execution_count": null,
      "outputs": []
    },
    {
      "cell_type": "markdown",
      "metadata": {
        "id": "48WR1UqQ5x_8"
      },
      "source": [
        "\n",
        "\n",
        "---\n",
        "\n"
      ]
    },
    {
      "cell_type": "markdown",
      "metadata": {
        "id": "3M6QjTsSkmYe"
      },
      "source": [
        "Según el problema (y tenga sentido), diseña un juego de datos de entrada aleatorios"
      ]
    },
    {
      "cell_type": "markdown",
      "metadata": {
        "id": "Jc3_OlyNkvjZ"
      },
      "source": [
        "Respuesta"
      ]
    },
    {
      "cell_type": "code",
      "metadata": {
        "id": "sJ-N2etjkyWc"
      },
      "source": [
        "# Genera una jornada al azar\n",
        "def generar_partidos_aleatorios():\n",
        "  #jornada =[\"BA\", \"BA\", \"CC\", \"BA\", \"CC\", \"BC\", \"BB\", \"BB\", \"BC\", \"BB\"]\n",
        "  return [np.random.choice(PARTIDOS) for _ in range(10)]\n",
        "\n",
        "# Genera un numero de individuos segun la variable num_ejemplos\n",
        "def conjunto_entrada_aleatorio(num_ejemplos = 3):\n",
        "  jornadas = []\n",
        "  for _ in range(num_ejemplos):\n",
        "    jornadas.append(generar_partidos_aleatorios())\n",
        "  return jornadas\n",
        "\n",
        "conjunto_entrada_aleatorio(2)"
      ],
      "execution_count": null,
      "outputs": []
    },
    {
      "cell_type": "markdown",
      "metadata": {
        "id": "Dsbwbyc551Q6"
      },
      "source": [
        "\n",
        "\n",
        "---\n",
        "\n"
      ]
    },
    {
      "cell_type": "markdown",
      "metadata": {
        "id": "zy5ZROmjlGo1"
      },
      "source": [
        "Aplica el algoritmo al juego de datos generado"
      ]
    },
    {
      "cell_type": "markdown",
      "metadata": {
        "id": "_Cmj-PVylMsa"
      },
      "source": [
        "Respuesta"
      ]
    },
    {
      "cell_type": "code",
      "metadata": {
        "id": "Jkx8GeiYlUz1"
      },
      "source": [
        "for jornada in jornadas:\n",
        "  optimiza(fitness, jornada iteraciones = int(10e7), stop_iters = int(2*10e4), tam_pop = 10, trace = 10e4, elitismo = 3, torneo = 5)\n"
      ],
      "execution_count": null,
      "outputs": []
    },
    {
      "cell_type": "markdown",
      "metadata": {
        "id": "eTFWUJQrtGcv"
      },
      "source": [
        "Enumera las referencias que has utilizado(si ha sido necesario) para llevar a cabo el trabajo"
      ]
    },
    {
      "cell_type": "markdown",
      "metadata": {
        "id": "YKQ_mRBttWsP"
      },
      "source": [
        "Respuesta"
      ]
    },
    {
      "cell_type": "code",
      "metadata": {
        "id": "iLRychj9kxt6"
      },
      "source": [
        ""
      ],
      "execution_count": null,
      "outputs": []
    },
    {
      "cell_type": "markdown",
      "metadata": {
        "id": "LMqg4yV157P3"
      },
      "source": [
        "\n",
        "\n",
        "---\n",
        "\n"
      ]
    },
    {
      "cell_type": "markdown",
      "metadata": {
        "id": "kAkDPUyRtYyH"
      },
      "source": [
        "Describe brevemente las lineas de como crees que es posible avanzar en el estudio del problema. Ten en cuenta incluso posibles variaciones del problema y/o variaciones al alza del tamaño"
      ]
    },
    {
      "cell_type": "markdown",
      "metadata": {
        "id": "IE0uZmo-tZu-"
      },
      "source": [
        "Respuesta"
      ]
    },
    {
      "cell_type": "markdown",
      "metadata": {
        "id": "01P_JipQ58M-"
      },
      "source": [
        "La ampliación de este problema más obvia es la planificación de los horarios de no solo una jornada sino de toda la liga, teniendo en cuenta factores como, partidos con mayor audiencia base según los equipos que se enfrentan (Real Madrid vs Barça, Sevilla vs Betis, etc), número de seguidores de cada equipo que se enfrenta, etc.\n",
        "\n",
        "También se podría extender más allá de la liga de fútbol española, abarcando la de otras regiones e incluso otros deportes como el baloncesto, tenis, voleibol, etc. Tambien se podria adaptar fuera del ámbito de los deportes como en debates televisivos, programas de televisión en distintas cadenas, etc."
      ]
    },
    {
      "cell_type": "code",
      "metadata": {
        "id": "P0lH_lUjkzUg"
      },
      "source": [
        ""
      ],
      "execution_count": null,
      "outputs": []
    }
  ]
}